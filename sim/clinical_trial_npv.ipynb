{
 "cells": [
  {
   "cell_type": "markdown",
   "metadata": {},
   "source": [
    "# Roivant Clinical Trials Monte Carlo NPV\n",
    "---\n",
    "#### Goal: To evaluate the NPV of various drugs at various stages\n",
    "\n",
    "##### Input:\n",
    "- Drug Id (some identifier for a drug)\n",
    "- Number of simulations\n",
    "- List of Stages (Phase 2, Phase 3, NDA, Complete) as an example\n",
    "- Start Year the year into a patent that Roivant obtains a drug\n",
    "- yearly cost: the forcasted average cost per year\n",
    "- yearly rev: the forcased average revenue to expect for each year\n",
    "- cost_dist: the distribution function and function parameters that describe randomness in changes in the yearly cost \n",
    "- rev_dist: same as cost_dist but for revenue\n",
    "- probs: a list of transition probabilities for each stage. For instance, if the durg has only NDA stage left stage_list = ('NDA', 'DONE') then the probability list would simply be [0.85] for instance because there is just one transition NDA -> (COMPLETE or FAIL)\n",
    "---\n",
    "\n",
    "##### Design:\n",
    "My initial idea for behind the mc_trials package was to create a simple state machine. The possible pathways for a clinical trial can be thought of as a directed acyclic graph (DAG). For each state, there are two outcomes: Successfully move to the next trial or fail (ignoring the case that a trial could skip to a later stage). For instance, Pretrials can either move to Phase I or fail to move forward. While normal clinical trials follow a traditional path of Pre -> Phase I -> Phase II -> Phase III -> NDA -> DONE, I added a parameter called stage_list so that a user could override the pathway. This comes in handy if a drug has potential for skipping a stage and if the drug has already reached a later stage.\n",
    "\n",
    "##### For the NPV calculations:\n",
    "Assumption: Patents last 11 years - should parametrize in the future\n",
    "User must include: \n",
    "- start_year: number of years into the patent\n",
    "- yearly_costs: costs from the beginning of the patent life to the end\n",
    "- yearly_rev: rev from beginning of patent to end\n",
    "- cost_dist\n",
    "- rev_dist\n",
    "- initial_cost\n",
    "\n",
    "start_year must be less than 11 or patent life\n",
    "yearly_costs and revenue should be a list of length 11\n",
    "\n",
    "\n",
    "##### Output:\n",
    "Returns a list of tuples containing the following \n",
    "```\n",
    "(<ENUM> DONE | FAILED, <State> State Object, <Float> NPV)\n",
    "```\n",
    "\n",
    "With this list, you can analyze the distribution of terminal states for a drug, how many outcomes resulted in a complete vs failed, and the NPV for these cuts"
   ]
  },
  {
   "cell_type": "code",
   "execution_count": 22,
   "metadata": {
    "collapsed": true
   },
   "outputs": [],
   "source": [
    "%matplotlib inline\n",
    "from mc_trials import *\n",
    "import pandas as pd\n",
    "import numpy as np\n",
    "import matplotlib.pyplot as plt"
   ]
  },
  {
   "cell_type": "markdown",
   "metadata": {},
   "source": [
    "#### Let's run an example simulation"
   ]
  },
  {
   "cell_type": "code",
   "execution_count": 29,
   "metadata": {
    "collapsed": true
   },
   "outputs": [],
   "source": [
    "sim = Simulation(\n",
    "    1234, # some drug id\n",
    "    10000, # num simulations\n",
    "    stage_list=('P2','P3','NDA','DONE'),\n",
    "    stage_len=[2,2,1,4],\n",
    "    initial_cost=50,\n",
    "    start_year=2,\n",
    "    yearly_cost=[10., 10., 100., 100., 40., 10., 10., 20., 20., 10., 10.],\n",
    "    yearly_rev = [0., 0., 0., 0., 0., 100., 500., 800., 700., 700., 500.],\n",
    "    cost_dist = (np.random.normal, (0, 1)),\n",
    "    rev_dist = (np.random.normal, (0, 10)),\n",
    "    probs=[1, 1, 1] \n",
    "    # Notice: this is an impossible \n",
    "    # case of passing every stage 100% of the time\n",
    ")"
   ]
  },
  {
   "cell_type": "code",
   "execution_count": 30,
   "metadata": {},
   "outputs": [],
   "source": [
    "results = sim.run_simulation()"
   ]
  },
  {
   "cell_type": "code",
   "execution_count": 31,
   "metadata": {
    "scrolled": true
   },
   "outputs": [
    {
     "name": "stdout",
     "output_type": "stream",
     "text": [
      "STATUS: DONE NPV: 1257.95649298\n"
     ]
    }
   ],
   "source": [
    "# the results list is a list of tuples \n",
    "# with (status, final state object, NPV)\n",
    "print 'STATUS:', results[0][0], 'NPV:', results[0][2]"
   ]
  },
  {
   "cell_type": "markdown",
   "metadata": {},
   "source": [
    "#### Plot the distribution"
   ]
  },
  {
   "cell_type": "code",
   "execution_count": 33,
   "metadata": {},
   "outputs": [
    {
     "data": {
      "image/png": "[encoded data removed]",
      "text/plain": [
       "<matplotlib.figure.Figure at 0x117714150>"
      ]
     },
     "metadata": {},
     "output_type": "display_data"
    }
   ],
   "source": [
    "plt.hist([result[2] for result in results])\n",
    "plt.title('NPV Distribution')\n",
    "plt.xlabel('NPV in Millions')\n",
    "plt.ylabel('Count')\n",
    "plt.show()"
   ]
  },
  {
   "cell_type": "markdown",
   "metadata": {},
   "source": [
    "#### A case where probability of success for each stage is less than 1"
   ]
  },
  {
   "cell_type": "code",
   "execution_count": 38,
   "metadata": {
    "collapsed": true
   },
   "outputs": [],
   "source": [
    "sim2 = Simulation(\n",
    "    1234, # some drug id\n",
    "    10000, # num simulations\n",
    "    stage_list=('P2','P3','NDA','DONE'),\n",
    "    stage_len=[2,2,1,4],\n",
    "    initial_cost=50,\n",
    "    start_year=2,\n",
    "    yearly_cost=[10., 10., 100., 100., 40., 10., 10., 20., 20., 10., 10.],\n",
    "    yearly_rev = [0., 0., 0., 0., 0., 100., 500., 800., 700., 700., 500.],\n",
    "    cost_dist = (np.random.normal, (0, 1)),\n",
    "    rev_dist = (np.random.normal, (0, 10)),\n",
    "    probs=[.45, .6, .9] \n",
    "    # Notice: this is an impossible \n",
    "    # case of passing every stage 100% of the time\n",
    ")"
   ]
  },
  {
   "cell_type": "code",
   "execution_count": 40,
   "metadata": {
    "collapsed": true
   },
   "outputs": [],
   "source": [
    "results2 = sim2.run_simulation()"
   ]
  },
  {
   "cell_type": "code",
   "execution_count": 44,
   "metadata": {},
   "outputs": [
    {
     "data": {
      "image/png": "[encoded data removed]",
      "text/plain": [
       "<matplotlib.figure.Figure at 0x11458e2d0>"
      ]
     },
     "metadata": {},
     "output_type": "display_data"
    }
   ],
   "source": [
    "plt.hist([result[2] for result in results2])\n",
    "plt.title('NPV Distribution')\n",
    "plt.xlabel('NPV in Millions')\n",
    "plt.ylabel('Count')\n",
    "plt.show()"
   ]
  },
  {
   "cell_type": "markdown",
   "metadata": {},
   "source": [
    "It seems odd that there are two sections to this distribution, but it makes sense\n",
    "\n",
    "Since a drug is a \"staged\" investment, the only way a drug returns any potential for a positive payout is if the drug reaches completion. In this way, there is a distribution for both the case of failing and a case of succeeding. Let's split those out instead"
   ]
  },
  {
   "cell_type": "code",
   "execution_count": 54,
   "metadata": {},
   "outputs": [
    {
     "data": {
      "image/png": "[encoded data removed]",
      "text/plain": [
       "<matplotlib.figure.Figure at 0x11826e050>"
      ]
     },
     "metadata": {},
     "output_type": "display_data"
    },
    {
     "data": {
      "image/png": "[encoded data removed]",
      "text/plain": [
       "<matplotlib.figure.Figure at 0x11815e810>"
      ]
     },
     "metadata": {},
     "output_type": "display_data"
    }
   ],
   "source": [
    "completed = filter(lambda x: x[0] == 'DONE', results2)\n",
    "failed = filter(lambda x: x[0] == 'FAILED', results2)\n",
    "plt.figure(1)\n",
    "plt.hist([result[2] for result in completed])\n",
    "plt.title('NPV Distribution - DONE')\n",
    "plt.xlabel('NPV in Millions')\n",
    "plt.ylabel('Count')\n",
    "\n",
    "plt.figure(2)\n",
    "plt.hist([result[2] for result in failed], facecolor='r')\n",
    "plt.title('NPV Distribution - FAILED')\n",
    "plt.xlabel('NPV in Millions')\n",
    "plt.ylabel('Count')\n",
    "plt.show()"
   ]
  },
  {
   "cell_type": "markdown",
   "metadata": {},
   "source": [
    "The first plot shows the distribution of NPV for each instance that a drug passed all trials and made it to market. The second plot shows the distribution in which the drug never made it to completion."
   ]
  },
  {
   "cell_type": "markdown",
   "metadata": {},
   "source": [
    "#### How do we do this for a bunch of drugs?"
   ]
  },
  {
   "cell_type": "code",
   "execution_count": 34,
   "metadata": {
    "collapsed": true
   },
   "outputs": [],
   "source": [
    "df = pd.read_csv('drug_data.csv')"
   ]
  },
  {
   "cell_type": "markdown",
   "metadata": {},
   "source": [
    "SPOOFED DATE BELOW:"
   ]
  },
  {
   "cell_type": "code",
   "execution_count": 37,
   "metadata": {
    "scrolled": true
   },
   "outputs": [
    {
     "data": {
      "text/html": [
       "<div>\n",
       "<style>\n",
       "    .dataframe thead tr:only-child th {\n",
       "        text-align: right;\n",
       "    }\n",
       "\n",
       "    .dataframe thead th {\n",
       "        text-align: left;\n",
       "    }\n",
       "\n",
       "    .dataframe tbody tr th {\n",
       "        vertical-align: top;\n",
       "    }\n",
       "</style>\n",
       "<table border=\"1\" class=\"dataframe\">\n",
       "  <thead>\n",
       "    <tr style=\"text-align: right;\">\n",
       "      <th></th>\n",
       "      <th>drug_id</th>\n",
       "      <th>num_trials</th>\n",
       "      <th>stage_list</th>\n",
       "      <th>start_year</th>\n",
       "      <th>stage_len</th>\n",
       "      <th>initial_cost</th>\n",
       "      <th>yearly_cost</th>\n",
       "      <th>yearly_rev</th>\n",
       "      <th>cost_dist</th>\n",
       "      <th>rev_dist</th>\n",
       "      <th>probs</th>\n",
       "      <th>distributions</th>\n",
       "    </tr>\n",
       "  </thead>\n",
       "  <tbody>\n",
       "    <tr>\n",
       "      <th>0</th>\n",
       "      <td>1</td>\n",
       "      <td>10000</td>\n",
       "      <td>P2,P3,NDA,DONE</td>\n",
       "      <td>2</td>\n",
       "      <td>1,3,1,4</td>\n",
       "      <td>50</td>\n",
       "      <td>1,2,5,5,1,2</td>\n",
       "      <td>0,0,0,0,0,15,100,200</td>\n",
       "      <td>normal,0,1</td>\n",
       "      <td>normal,0,1</td>\n",
       "      <td>.5,.5,.6,.7</td>\n",
       "      <td>-</td>\n",
       "    </tr>\n",
       "    <tr>\n",
       "      <th>1</th>\n",
       "      <td>2</td>\n",
       "      <td>10000</td>\n",
       "      <td>P2,P3,NDA,DONE</td>\n",
       "      <td>2</td>\n",
       "      <td>1,3,1,5</td>\n",
       "      <td>60</td>\n",
       "      <td>1,2,5,5,1,3</td>\n",
       "      <td>0,0,0,0,0,15,100,201</td>\n",
       "      <td>normal,0,2</td>\n",
       "      <td>normal,0,1</td>\n",
       "      <td>.5,.5,.6,.7</td>\n",
       "      <td>-</td>\n",
       "    </tr>\n",
       "    <tr>\n",
       "      <th>2</th>\n",
       "      <td>3</td>\n",
       "      <td>10000</td>\n",
       "      <td>P2,P3,NDA,DONE</td>\n",
       "      <td>3</td>\n",
       "      <td>1,3,1,6</td>\n",
       "      <td>30</td>\n",
       "      <td>1,2,5,5,1,4</td>\n",
       "      <td>0,0,0,0,0,15,100,202</td>\n",
       "      <td>normal,0,3</td>\n",
       "      <td>normal,0,1</td>\n",
       "      <td>.5,.5,.6,.7</td>\n",
       "      <td>-</td>\n",
       "    </tr>\n",
       "    <tr>\n",
       "      <th>3</th>\n",
       "      <td>4</td>\n",
       "      <td>10000</td>\n",
       "      <td>P1,P2,P3,NDA,DONE</td>\n",
       "      <td>1</td>\n",
       "      <td>1,3,1,7</td>\n",
       "      <td>20</td>\n",
       "      <td>1,2,5,5,1,5</td>\n",
       "      <td>0,0,0,0,0,15,100,203</td>\n",
       "      <td>normal,0,4</td>\n",
       "      <td>normal,0,1</td>\n",
       "      <td>.5,.5,.6,.7</td>\n",
       "      <td>-</td>\n",
       "    </tr>\n",
       "    <tr>\n",
       "      <th>4</th>\n",
       "      <td>5</td>\n",
       "      <td>10000</td>\n",
       "      <td>PRE,P1,P2,P3,NDA,DONE</td>\n",
       "      <td>0</td>\n",
       "      <td>1,3,1,8</td>\n",
       "      <td>22</td>\n",
       "      <td>1,2,5,5,1,6</td>\n",
       "      <td>0,0,0,0,0,15,100,204</td>\n",
       "      <td>normal,0,5</td>\n",
       "      <td>normal,0,1</td>\n",
       "      <td>.5,.5,.6,.7</td>\n",
       "      <td>-</td>\n",
       "    </tr>\n",
       "    <tr>\n",
       "      <th>5</th>\n",
       "      <td>6</td>\n",
       "      <td>10000</td>\n",
       "      <td>PRE,P1,P2,P3,NDA,DONE</td>\n",
       "      <td>0</td>\n",
       "      <td>1,3,1,9</td>\n",
       "      <td>25</td>\n",
       "      <td>1,2,5,5,1,7</td>\n",
       "      <td>0,0,0,0,0,15,100,205</td>\n",
       "      <td>normal,0,6</td>\n",
       "      <td>normal,0,1</td>\n",
       "      <td>.5,.5,.6,.7</td>\n",
       "      <td>-</td>\n",
       "    </tr>\n",
       "    <tr>\n",
       "      <th>6</th>\n",
       "      <td>7</td>\n",
       "      <td>10000</td>\n",
       "      <td>PRE,P1,P2,P3,NDA,DONE</td>\n",
       "      <td>0</td>\n",
       "      <td>1,3,1,10</td>\n",
       "      <td>70</td>\n",
       "      <td>1,2,5,5,1,8</td>\n",
       "      <td>0,0,0,0,0,15,100,206</td>\n",
       "      <td>normal,0,7</td>\n",
       "      <td>normal,0,1</td>\n",
       "      <td>.5,.5,.6,.7</td>\n",
       "      <td>-</td>\n",
       "    </tr>\n",
       "    <tr>\n",
       "      <th>7</th>\n",
       "      <td>8</td>\n",
       "      <td>10000</td>\n",
       "      <td>P1,P2,P3,NDA,DONE</td>\n",
       "      <td>1</td>\n",
       "      <td>1,3,1,11</td>\n",
       "      <td>40</td>\n",
       "      <td>1,2,5,5,1,9</td>\n",
       "      <td>0,0,0,0,0,15,100,207</td>\n",
       "      <td>normal,0,8</td>\n",
       "      <td>normal,0,1</td>\n",
       "      <td>.5,.5,.6,.7</td>\n",
       "      <td>-</td>\n",
       "    </tr>\n",
       "    <tr>\n",
       "      <th>8</th>\n",
       "      <td>9</td>\n",
       "      <td>10000</td>\n",
       "      <td>P3,NDA,DONE</td>\n",
       "      <td>3</td>\n",
       "      <td>1,3,1,12</td>\n",
       "      <td>20</td>\n",
       "      <td>1,2,5,5,1,10</td>\n",
       "      <td>0,0,0,0,0,15,100,208</td>\n",
       "      <td>normal,0,9</td>\n",
       "      <td>normal,0,1</td>\n",
       "      <td>.5,.5,.6,.7</td>\n",
       "      <td>-</td>\n",
       "    </tr>\n",
       "    <tr>\n",
       "      <th>9</th>\n",
       "      <td>10</td>\n",
       "      <td>10000</td>\n",
       "      <td>P3,NDA,DONE</td>\n",
       "      <td>4</td>\n",
       "      <td>1,3,1,13</td>\n",
       "      <td>52</td>\n",
       "      <td>1,2,5,5,1,11</td>\n",
       "      <td>0,0,0,0,0,15,100,209</td>\n",
       "      <td>normal,0,10</td>\n",
       "      <td>normal,0,1</td>\n",
       "      <td>.5,.5,.6,.7</td>\n",
       "      <td>-</td>\n",
       "    </tr>\n",
       "  </tbody>\n",
       "</table>\n",
       "</div>"
      ],
      "text/plain": [
       "   drug_id  num_trials             stage_list  start_year stage_len  \\\n",
       "0        1       10000         P2,P3,NDA,DONE           2   1,3,1,4   \n",
       "1        2       10000         P2,P3,NDA,DONE           2   1,3,1,5   \n",
       "2        3       10000         P2,P3,NDA,DONE           3   1,3,1,6   \n",
       "3        4       10000      P1,P2,P3,NDA,DONE           1   1,3,1,7   \n",
       "4        5       10000  PRE,P1,P2,P3,NDA,DONE           0   1,3,1,8   \n",
       "5        6       10000  PRE,P1,P2,P3,NDA,DONE           0   1,3,1,9   \n",
       "6        7       10000  PRE,P1,P2,P3,NDA,DONE           0  1,3,1,10   \n",
       "7        8       10000      P1,P2,P3,NDA,DONE           1  1,3,1,11   \n",
       "8        9       10000            P3,NDA,DONE           3  1,3,1,12   \n",
       "9       10       10000            P3,NDA,DONE           4  1,3,1,13   \n",
       "\n",
       "   initial_cost   yearly_cost            yearly_rev    cost_dist    rev_dist  \\\n",
       "0            50   1,2,5,5,1,2  0,0,0,0,0,15,100,200   normal,0,1  normal,0,1   \n",
       "1            60   1,2,5,5,1,3  0,0,0,0,0,15,100,201   normal,0,2  normal,0,1   \n",
       "2            30   1,2,5,5,1,4  0,0,0,0,0,15,100,202   normal,0,3  normal,0,1   \n",
       "3            20   1,2,5,5,1,5  0,0,0,0,0,15,100,203   normal,0,4  normal,0,1   \n",
       "4            22   1,2,5,5,1,6  0,0,0,0,0,15,100,204   normal,0,5  normal,0,1   \n",
       "5            25   1,2,5,5,1,7  0,0,0,0,0,15,100,205   normal,0,6  normal,0,1   \n",
       "6            70   1,2,5,5,1,8  0,0,0,0,0,15,100,206   normal,0,7  normal,0,1   \n",
       "7            40   1,2,5,5,1,9  0,0,0,0,0,15,100,207   normal,0,8  normal,0,1   \n",
       "8            20  1,2,5,5,1,10  0,0,0,0,0,15,100,208   normal,0,9  normal,0,1   \n",
       "9            52  1,2,5,5,1,11  0,0,0,0,0,15,100,209  normal,0,10  normal,0,1   \n",
       "\n",
       "         probs distributions  \n",
       "0  .5,.5,.6,.7             -  \n",
       "1  .5,.5,.6,.7             -  \n",
       "2  .5,.5,.6,.7             -  \n",
       "3  .5,.5,.6,.7             -  \n",
       "4  .5,.5,.6,.7             -  \n",
       "5  .5,.5,.6,.7             -  \n",
       "6  .5,.5,.6,.7             -  \n",
       "7  .5,.5,.6,.7             -  \n",
       "8  .5,.5,.6,.7             -  \n",
       "9  .5,.5,.6,.7             -  "
      ]
     },
     "execution_count": 37,
     "metadata": {},
     "output_type": "execute_result"
    }
   ],
   "source": [
    "df.head(11)"
   ]
  },
  {
   "cell_type": "markdown",
   "metadata": {},
   "source": [
    "We can take a list of drug ids, num trials, and all the other parameters, and then run this list through a simulation and return a distribution.\n",
    "\n",
    "NOTE: This data is all spoofed and most points do not make sense as an input"
   ]
  },
  {
   "cell_type": "markdown",
   "metadata": {},
   "source": [
    "#### Next Steps:\n",
    "---\n",
    "- Configurable Patent Length\n",
    "- Allow a distribution for each step in yearly revenue and cost\n",
    "- Analyze the distrubitions from Monte Carlo simulations for an ensemble of drugs to determine which drugs have the best NPV's\n",
    "- Evaluate what kind of distributions arise for revenue and cost of pharma products"
   ]
  },
  {
   "cell_type": "code",
   "execution_count": null,
   "metadata": {
    "collapsed": true
   },
   "outputs": [],
   "source": []
  }
 ],
 "metadata": {
  "kernelspec": {
   "display_name": "Python 2",
   "language": "python",
   "name": "python2"
  },
  "language_info": {
   "codemirror_mode": {
    "name": "ipython",
    "version": 2
   },
   "file_extension": ".py",
   "mimetype": "text/x-python",
   "name": "python",
   "nbconvert_exporter": "python",
   "pygments_lexer": "ipython2",
   "version": "2.7.13"
  }
 },
 "nbformat": 4,
 "nbformat_minor": 2
}
