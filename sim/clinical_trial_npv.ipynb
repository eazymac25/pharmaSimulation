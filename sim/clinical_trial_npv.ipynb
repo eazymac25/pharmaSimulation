{
 "cells": [
  {
   "cell_type": "markdown",
   "metadata": {},
   "source": [
    "# Roivant Clinical Trials Monte Carlo NPV\n",
    "---\n",
    "#### Goal: To evaluate the NPV of various drugs at various stages\n",
    "\n",
    "##### Input:\n",
    "- Drug Id (some identifier for a drug)\n",
    "- Number of simulations\n",
    "- List of Stages (Phase 2, Phase 3, NDA, Complete) as an example\n",
    "- Start Year the year into a patent that Roivant obtains a drug\n",
    "- yearly cost: the forcasted average cost per year\n",
    "- yearly rev: the forcased average revenue to expect for each year\n",
    "- cost_dist: the distribution function and function parameters that describe randomness in changes in the yearly cost \n",
    "- rev_dist: same as cost_dist but for revenue\n",
    "- probs: a list of transition probabilities for each stage. For instance, if the durg has only NDA stage left stage_list = ('NDA', 'DONE') then the probability list would simply be [0.85] for instance because there is just one transition NDA -> (COMPLETE or FAIL)\n",
    "---\n",
    "\n",
    "##### Design:\n",
    "My initial idea for behind the mc_trials package was to create a simple state machine. The possible pathways for a clinical trial can be thought of as a directed acyclic graph (DAG). For each state, there are two outcomes: Successfully move to the next trial or fail (ignoring the case that a trial could skip to a later stage). For instance, Pretrials can either move to Phase I or fail to move forward. While normal clinical trials follow a traditional path of Pre -> Phase I -> Phase II -> Phase III -> NDA -> DONE, I added a parameter called stage_list so that a user could override the pathway. This comes in handy if a drug has potential for skipping a stage and if the drug has already reached a later stage.\n",
    "\n",
    "##### For the NPV calculations:\n",
    "Assumption: Patents last 11 years - should parametrize in the future\n",
    "User must include: \n",
    "- start_year: number of years into the patent\n",
    "- yearly_costs: costs from the beginning of the patent life to the end\n",
    "- yearly_rev: rev from beginning of patent to end\n",
    "- cost_dist\n",
    "- rev_dist\n",
    "- initial_cost\n",
    "\n",
    "start_year must be less than 11 or patent life\n",
    "yearly_costs and revenue should be a list of length 11\n",
    "\n",
    "\n",
    "##### Output:\n",
    "Returns a list of tuples containing the following \n",
    "```\n",
    "(<ENUM> DONE | FAILED, <State> State Object, <Float> NPV)\n",
    "```\n",
    "\n",
    "With this list, you can analyze the distribution of terminal states for a drug, how many outcomes resulted in a complete vs failed, and the NPV for these cuts"
   ]
  },
  {
   "cell_type": "code",
   "execution_count": 22,
   "metadata": {
    "collapsed": true
   },
   "outputs": [],
   "source": [
    "%matplotlib inline\n",
    "from mc_trials import *\n",
    "import pandas as pd\n",
    "import numpy as np\n",
    "import matplotlib.pyplot as plt"
   ]
  },
  {
   "cell_type": "code",
   "execution_count": 23,
   "metadata": {
    "collapsed": true
   },
   "outputs": [],
   "source": [
    "sim = Simulation(\n",
    "    1234, # some drug id\n",
    "    10000, # num simulations\n",
    "    stage_list=('P2','P3','NDA','DONE'),\n",
    "    stage_len=[2,2,1,4],\n",
    "    initial_cost=50,\n",
    "    start_year=2,\n",
    "    yearly_cost=[1., 1., 4., 4., 4., 1., 1., 2., 2., 1., 1.],\n",
    "    yearly_rev = [0., 0., 0., 0., 0., 10., 50., 80., 70., 70., 50.],\n",
    "    cost_dist = (np.random.normal, (0, 1)),\n",
    "    rev_dist = (np.random.normal, (0, 10)),\n",
    "    probs=[1, 1, 1] \n",
    "    # Notice: this is an impossible \n",
    "    # case of passing every stage 100% of the time\n",
    ")"
   ]
  },
  {
   "cell_type": "code",
   "execution_count": 24,
   "metadata": {},
   "outputs": [],
   "source": [
    "results = sim.run_simulation()"
   ]
  },
  {
   "cell_type": "code",
   "execution_count": 25,
   "metadata": {},
   "outputs": [
    {
     "name": "stdout",
     "output_type": "stream",
     "text": [
      "STATUS: DONE NPV: 93.3102333556\n"
     ]
    }
   ],
   "source": [
    "# the results list is a list of tuples \n",
    "# with (status, final state object, NPV)\n",
    "print 'STATUS:', results[0][0], 'NPV:', results[0][2]"
   ]
  },
  {
   "cell_type": "code",
   "execution_count": 28,
   "metadata": {},
   "outputs": [
    {
     "data": {
      "image/png": "[encoded data removed]",
      "text/plain": [
       "<matplotlib.figure.Figure at 0x11139df10>"
      ]
     },
     "metadata": {},
     "output_type": "display_data"
    }
   ],
   "source": [
    "plt.hist([result[2] for result in results])\n",
    "plt.title('NPV Distribution')\n",
    "plt.xlabel('Revenue in Millions')\n",
    "plt.ylabel('Count')\n",
    "plt.show()"
   ]
  },
  {
   "cell_type": "code",
   "execution_count": null,
   "metadata": {
    "collapsed": true
   },
   "outputs": [],
   "source": []
  }
 ],
 "metadata": {
  "kernelspec": {
   "display_name": "Python 2",
   "language": "python",
   "name": "python2"
  },
  "language_info": {
   "codemirror_mode": {
    "name": "ipython",
    "version": 2
   },
   "file_extension": ".py",
   "mimetype": "text/x-python",
   "name": "python",
   "nbconvert_exporter": "python",
   "pygments_lexer": "ipython2",
   "version": "2.7.13"
  }
 },
 "nbformat": 4,
 "nbformat_minor": 2
}
